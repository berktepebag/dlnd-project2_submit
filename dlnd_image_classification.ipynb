{
 "cells": [
  {
   "cell_type": "markdown",
   "metadata": {
    "collapsed": true,
    "deletable": true,
    "editable": true
   },
   "source": [
    "# Image Classification\n",
    "In this project, you'll classify images from the [CIFAR-10 dataset](https://www.cs.toronto.edu/~kriz/cifar.html).  The dataset consists of airplanes, dogs, cats, and other objects. You'll preprocess the images, then train a convolutional neural network on all the samples. The images need to be normalized and the labels need to be one-hot encoded.  You'll get to apply what you learned and build a convolutional, max pooling, dropout, and fully connected layers.  At the end, you'll get to see your neural network's predictions on the sample images.\n",
    "## Get the Data\n",
    "Run the following cell to download the [CIFAR-10 dataset for python](https://www.cs.toronto.edu/~kriz/cifar-10-python.tar.gz)."
   ]
  },
  {
   "cell_type": "code",
   "execution_count": 2,
   "metadata": {
    "collapsed": false,
    "deletable": true,
    "editable": true
   },
   "outputs": [
    {
     "name": "stdout",
     "output_type": "stream",
     "text": [
      "All files found!\n"
     ]
    }
   ],
   "source": [
    "\"\"\"\n",
    "DON'T MODIFY ANYTHING IN THIS CELL THAT IS BELOW THIS LINE\n",
    "\"\"\"\n",
    "from urllib.request import urlretrieve\n",
    "from os.path import isfile, isdir\n",
    "from tqdm import tqdm\n",
    "import problem_unittests as tests\n",
    "import tarfile\n",
    "\n",
    "cifar10_dataset_folder_path = 'cifar-10-batches-py'\n",
    "\n",
    "class DLProgress(tqdm):\n",
    "    last_block = 0\n",
    "\n",
    "    def hook(self, block_num=1, block_size=1, total_size=None):\n",
    "        self.total = total_size\n",
    "        self.update((block_num - self.last_block) * block_size)\n",
    "        self.last_block = block_num\n",
    "\n",
    "if not isfile('cifar-10-python.tar.gz'):\n",
    "    with DLProgress(unit='B', unit_scale=True, miniters=1, desc='CIFAR-10 Dataset') as pbar:\n",
    "        urlretrieve(\n",
    "            'https://www.cs.toronto.edu/~kriz/cifar-10-python.tar.gz',\n",
    "            'cifar-10-python.tar.gz',\n",
    "            pbar.hook)\n",
    "\n",
    "if not isdir(cifar10_dataset_folder_path):\n",
    "    with tarfile.open('cifar-10-python.tar.gz') as tar:\n",
    "        tar.extractall()\n",
    "        tar.close()\n",
    "\n",
    "\n",
    "tests.test_folder_path(cifar10_dataset_folder_path)"
   ]
  },
  {
   "cell_type": "markdown",
   "metadata": {
    "deletable": true,
    "editable": true
   },
   "source": [
    "## Explore the Data\n",
    "The dataset is broken into batches to prevent your machine from running out of memory.  The CIFAR-10 dataset consists of 5 batches, named `data_batch_1`, `data_batch_2`, etc.. Each batch contains the labels and images that are one of the following:\n",
    "* airplane\n",
    "* automobile\n",
    "* bird\n",
    "* cat\n",
    "* deer\n",
    "* dog\n",
    "* frog\n",
    "* horse\n",
    "* ship\n",
    "* truck\n",
    "\n",
    "Understanding a dataset is part of making predictions on the data.  Play around with the code cell below by changing the `batch_id` and `sample_id`. The `batch_id` is the id for a batch (1-5). The `sample_id` is the id for a image and label pair in the batch.\n",
    "\n",
    "Ask yourself \"What are all possible labels?\", \"What is the range of values for the image data?\", \"Are the labels in order or random?\".  Answers to questions like these will help you preprocess the data and end up with better predictions."
   ]
  },
  {
   "cell_type": "code",
   "execution_count": 9,
   "metadata": {
    "collapsed": false,
    "deletable": true,
    "editable": true
   },
   "outputs": [
    {
     "name": "stdout",
     "output_type": "stream",
     "text": [
      "\n",
      "Stats of batch 2:\n",
      "Samples: 10000\n",
      "Label Counts: {0: 984, 1: 1007, 2: 1010, 3: 995, 4: 1010, 5: 988, 6: 1008, 7: 1026, 8: 987, 9: 985}\n",
      "First 20 Labels: [1, 6, 6, 8, 8, 3, 4, 6, 0, 6, 0, 3, 6, 6, 5, 4, 8, 3, 2, 6]\n",
      "\n",
      "Example of Image 8000:\n",
      "Image - Min Value: 3 Max Value: 242\n",
      "Image - Shape: (32, 32, 3)\n",
      "Label - Label Id: 9 Name: truck\n"
     ]
    },
    {
     "data": {
      "image/png": "[encoded data removed]",
      "text/plain": [
       "<matplotlib.figure.Figure at 0x7f10b269dba8>"
      ]
     },
     "metadata": {
      "image/png": {
       "height": 250,
       "width": 253
      }
     },
     "output_type": "display_data"
    }
   ],
   "source": [
    "%matplotlib inline\n",
    "%config InlineBackend.figure_format = 'retina'\n",
    "\n",
    "import helper\n",
    "import numpy as np\n",
    "from sklearn import preprocessing\n",
    "\n",
    "# Explore the dataset\n",
    "batch_id = 2\n",
    "sample_id = 8000\n",
    "helper.display_stats(cifar10_dataset_folder_path, batch_id, sample_id)"
   ]
  },
  {
   "cell_type": "markdown",
   "metadata": {
    "deletable": true,
    "editable": true
   },
   "source": [
    "## Implement Preprocess Functions\n",
    "### Normalize\n",
    "In the cell below, implement the `normalize` function to take in image data, `x`, and return it as a normalized Numpy array. The values should be in the range of 0 to 1, inclusive.  The return object should be the same shape as `x`."
   ]
  },
  {
   "cell_type": "code",
   "execution_count": 10,
   "metadata": {
    "collapsed": false,
    "deletable": true,
    "editable": true,
    "scrolled": true
   },
   "outputs": [
    {
     "name": "stdout",
     "output_type": "stream",
     "text": [
      "Tests Passed\n"
     ]
    }
   ],
   "source": [
    "def normalize(x):\n",
    "    \"\"\"\n",
    "    Normalize a list of sample image data in the range of 0 to 1\n",
    "    : x: List of image data.  The image shape is (32, 32, 3)\n",
    "    : return: Numpy array of normalize data\n",
    "    \"\"\"\n",
    "    # TODO: Implement Function       \n",
    "\n",
    "    image_data = x\n",
    "    a = 0.0\n",
    "    b = 1.0\n",
    "    grayscale_min = 0\n",
    "    grayscale_max = 255\n",
    "    return a + ( ( (image_data - grayscale_min)*(b - a) )/( grayscale_max - grayscale_min ) )\n",
    "\n",
    "\"\"\"\n",
    "DON'T MODIFY ANYTHING IN THIS CELL THAT IS BELOW THIS LINE\n",
    "\"\"\"\n",
    "tests.test_normalize(normalize)"
   ]
  },
  {
   "cell_type": "markdown",
   "metadata": {
    "deletable": true,
    "editable": true
   },
   "source": [
    "### One-hot encode\n",
    "Just like the previous code cell, you'll be implementing a function for preprocessing.  This time, you'll implement the `one_hot_encode` function. The input, `x`, are a list of labels.  Implement the function to return the list of labels as One-Hot encoded Numpy array.  The possible values for labels are 0 to 9. The one-hot encoding function should return the same encoding for each value between each call to `one_hot_encode`.  Make sure to save the map of encodings outside the function.\n",
    "\n",
    "Hint: Don't reinvent the wheel."
   ]
  },
  {
   "cell_type": "code",
   "execution_count": 11,
   "metadata": {
    "collapsed": false,
    "deletable": true,
    "editable": true,
    "scrolled": false
   },
   "outputs": [
    {
     "name": "stdout",
     "output_type": "stream",
     "text": [
      "Tests Passed\n"
     ]
    }
   ],
   "source": [
    "def one_hot_encode(x):\n",
    "    \"\"\"\n",
    "    One hot encode a list of sample labels. Return a one-hot encoded vector for each label.\n",
    "    : x: List of sample Labels\n",
    "    : return: Numpy array of one-hot encoded labels\n",
    "    \"\"\"\n",
    "    # TODO: Implement Function         \n",
    "\n",
    "    # Create the encoder\n",
    "    lb = preprocessing.LabelBinarizer()\n",
    "\n",
    "    # Here the encoder finds the classes and assigns one-hot vectors \n",
    "    lb.fit(np.arange(0, 10))\n",
    "\n",
    "    # And finally, transform the labels into one-hot encoded vectors  \n",
    "    return lb.transform(x)\n",
    " \n",
    "    \n",
    "\"\"\"\n",
    "DON'T MODIFY ANYTHING IN THIS CELL THAT IS BELOW THIS LINE\n",
    "\"\"\"\n",
    "tests.test_one_hot_encode(one_hot_encode)"
   ]
  },
  {
   "cell_type": "markdown",
   "metadata": {
    "deletable": true,
    "editable": true
   },
   "source": [
    "### Randomize Data\n",
    "As you saw from exploring the data above, the order of the samples are randomized.  It doesn't hurt to randomize it again, but you don't need to for this dataset."
   ]
  },
  {
   "cell_type": "markdown",
   "metadata": {
    "deletable": true,
    "editable": true
   },
   "source": [
    "## Preprocess all the data and save it\n",
    "Running the code cell below will preprocess all the CIFAR-10 data and save it to file. The code below also uses 10% of the training data for validation."
   ]
  },
  {
   "cell_type": "code",
   "execution_count": 12,
   "metadata": {
    "collapsed": false,
    "deletable": true,
    "editable": true
   },
   "outputs": [],
   "source": [
    "\"\"\"\n",
    "DON'T MODIFY ANYTHING IN THIS CELL\n",
    "\"\"\"\n",
    "# Preprocess Training, Validation, and Testing Data\n",
    "helper.preprocess_and_save_data(cifar10_dataset_folder_path, normalize, one_hot_encode)"
   ]
  },
  {
   "cell_type": "markdown",
   "metadata": {
    "deletable": true,
    "editable": true
   },
   "source": [
    "# Check Point\n",
    "This is your first checkpoint.  If you ever decide to come back to this notebook or have to restart the notebook, you can start from here.  The preprocessed data has been saved to disk."
   ]
  },
  {
   "cell_type": "code",
   "execution_count": 1,
   "metadata": {
    "collapsed": false,
    "deletable": true,
    "editable": true
   },
   "outputs": [],
   "source": [
    "\"\"\"\n",
    "DON'T MODIFY ANYTHING IN THIS CELL\n",
    "\"\"\"\n",
    "import pickle\n",
    "import problem_unittests as tests\n",
    "import helper\n",
    "\n",
    "# Load the Preprocessed Validation data\n",
    "valid_features, valid_labels = pickle.load(open('preprocess_validation.p', mode='rb'))"
   ]
  },
  {
   "cell_type": "markdown",
   "metadata": {
    "deletable": true,
    "editable": true
   },
   "source": [
    "## Build the network\n",
    "For the neural network, you'll build each layer into a function.  Most of the code you've seen has been outside of functions. To test your code more thoroughly, we require that you put each layer in a function.  This allows us to give you better feedback and test for simple mistakes using our unittests before you submit your project.\n",
    "\n",
    "If you're finding it hard to dedicate enough time for this course a week, we've provided a small shortcut to this part of the project. In the next couple of problems, you'll have the option to use [TensorFlow Layers](https://www.tensorflow.org/api_docs/python/tf/layers) or [TensorFlow Layers (contrib)](https://www.tensorflow.org/api_guides/python/contrib.layers) to build each layer, except \"Convolutional & Max Pooling\" layer.  TF Layers is similar to Keras's and TFLearn's abstraction to layers, so it's easy to pickup.\n",
    "\n",
    "If you would like to get the most of this course, try to solve all the problems without TF Layers.  Let's begin!\n",
    "### Input\n",
    "The neural network needs to read the image data, one-hot encoded labels, and dropout keep probability. Implement the following functions\n",
    "* Implement `neural_net_image_input`\n",
    " * Return a [TF Placeholder](https://www.tensorflow.org/api_docs/python/tf/placeholder)\n",
    " * Set the shape using `image_shape` with batch size set to `None`.\n",
    " * Name the TensorFlow placeholder \"x\" using the TensorFlow `name` parameter in the [TF Placeholder](https://www.tensorflow.org/api_docs/python/tf/placeholder).\n",
    "* Implement `neural_net_label_input`\n",
    " * Return a [TF Placeholder](https://www.tensorflow.org/api_docs/python/tf/placeholder)\n",
    " * Set the shape using `n_classes` with batch size set to `None`.\n",
    " * Name the TensorFlow placeholder \"y\" using the TensorFlow `name` parameter in the [TF Placeholder](https://www.tensorflow.org/api_docs/python/tf/placeholder).\n",
    "* Implement `neural_net_keep_prob_input`\n",
    " * Return a [TF Placeholder](https://www.tensorflow.org/api_docs/python/tf/placeholder) for dropout keep probability.\n",
    " * Name the TensorFlow placeholder \"keep_prob\" using the TensorFlow `name` parameter in the [TF Placeholder](https://www.tensorflow.org/api_docs/python/tf/placeholder).\n",
    "\n",
    "These names will be used at the end of the project to load your saved model.\n",
    "\n",
    "Note: `None` for shapes in TensorFlow allow for a dynamic size."
   ]
  },
  {
   "cell_type": "code",
   "execution_count": 2,
   "metadata": {
    "collapsed": false,
    "deletable": true,
    "editable": true
   },
   "outputs": [
    {
     "name": "stdout",
     "output_type": "stream",
     "text": [
      "Image Input Tests Passed.\n",
      "Label Input Tests Passed.\n",
      "Keep Prob Tests Passed.\n"
     ]
    }
   ],
   "source": [
    "import tensorflow as tf\n",
    "\n",
    "def neural_net_image_input(image_shape):\n",
    "    \"\"\"\n",
    "    Return a Tensor for a bach of image input\n",
    "    : image_shape: Shape of the images\n",
    "    : return: Tensor for image input.\n",
    "    \"\"\"\n",
    "    # TODO: Implement Function     \n",
    "    \n",
    "    #features = tf.placeholder(tf.float32, [None, 32, 32, 3],name=\"features\")\n",
    "    \n",
    "    features =tf.placeholder(tf.float32, [None,image_shape[0],image_shape[1],image_shape[2]],name=\"x\")      \n",
    "    \n",
    "    return features\n",
    "\n",
    "\n",
    "def neural_net_label_input(n_classes):\n",
    "    \"\"\"\n",
    "    Return a Tensor for a batch of label input\n",
    "    : n_classes: Number of classes\n",
    "    : return: Tensor for label input.\n",
    "    \"\"\"\n",
    "    # TODO: Implement Function\n",
    "    \n",
    "    labels = tf.placeholder(tf.float32, [None, n_classes],name=\"y\")\n",
    "    return labels\n",
    "\n",
    "\n",
    "def neural_net_keep_prob_input():\n",
    "    \"\"\"\n",
    "    Return a Tensor for keep probability\n",
    "    : return: Tensor for keep probability.\n",
    "    \"\"\"\n",
    "    # TODO: Implement Function\n",
    "    \n",
    "    keep_prob=tf.placeholder(tf.float32,name=\"keep_prob\")\n",
    "    return keep_prob\n",
    "\n",
    "\n",
    "\"\"\"\n",
    "DON'T MODIFY ANYTHING IN THIS CELL THAT IS BELOW THIS LINE\n",
    "\"\"\"\n",
    "tf.reset_default_graph()\n",
    "tests.test_nn_image_inputs(neural_net_image_input)\n",
    "tests.test_nn_label_inputs(neural_net_label_input)\n",
    "tests.test_nn_keep_prob_inputs(neural_net_keep_prob_input)"
   ]
  },
  {
   "cell_type": "markdown",
   "metadata": {
    "deletable": true,
    "editable": true
   },
   "source": [
    "### Convolution and Max Pooling Layer\n",
    "Convolution layers have a lot of success with images. For this code cell, you should implement the function `conv2d_maxpool` to apply convolution then max pooling:\n",
    "* Create the weight and bias using `conv_ksize`, `conv_num_outputs` and the shape of `x_tensor`.\n",
    "* Apply a convolution to `x_tensor` using weight and `conv_strides`.\n",
    " * We recommend you use same padding, but you're welcome to use any padding.\n",
    "* Add bias\n",
    "* Add a nonlinear activation to the convolution.\n",
    "* Apply Max Pooling using `pool_ksize` and `pool_strides`.\n",
    " * We recommend you use same padding, but you're welcome to use any padding.\n",
    "\n",
    "Note: You **can't** use [TensorFlow Layers](https://www.tensorflow.org/api_docs/python/tf/layers) or [TensorFlow Layers (contrib)](https://www.tensorflow.org/api_guides/python/contrib.layers) for this layer.  You're free to use any TensorFlow package for all the other layers."
   ]
  },
  {
   "cell_type": "code",
   "execution_count": 64,
   "metadata": {
    "collapsed": false,
    "deletable": true,
    "editable": true
   },
   "outputs": [
    {
     "name": "stdout",
     "output_type": "stream",
     "text": [
      "Tests Passed\n"
     ]
    }
   ],
   "source": [
    "def conv2d_maxpool(x_tensor, conv_num_outputs, conv_ksize, conv_strides, pool_ksize, pool_strides):\n",
    "    \"\"\"\n",
    "    Apply convolution then max pooling to x_tensor\n",
    "    :param x_tensor: TensorFlow Tensor\n",
    "    :param conv_num_outputs: Number of outputs for the convolutional layer\n",
    "    :param conv_ksize: kernal/patch size 2-D Tuple for the convolutional layer\n",
    "    :param conv_strides: Stride 2-D Tuple for convolution\n",
    "    :param pool_ksize: kernal/patch size 2-D Tuple for pool\n",
    "    :param pool_strides: Stride 2-D Tuple for pool\n",
    "    : return: A tensor that represents convolution and max pooling of x_tensor\n",
    "    \"\"\"\n",
    "    # TODO: Implement Function\n",
    "          \n",
    "    conv_strides=[1,conv_strides[0],conv_strides[1],1]\n",
    "    pool_strides=[1,pool_strides[0],pool_strides[1],1]\n",
    "    pool_ksize=[1,pool_ksize[0],pool_ksize[1],1]\n",
    " \n",
    "    # Weight and bias\n",
    "    weight = tf.Variable(tf.truncated_normal([conv_ksize[0], conv_ksize[1],x_tensor.get_shape().as_list()[3] , conv_num_outputs],stddev=0.05))\n",
    "    bias = tf.Variable(tf.zeros(conv_num_outputs))  \n",
    "       \n",
    "    conv_layer = tf.nn.conv2d(x_tensor, weight, conv_strides, padding='SAME')\n",
    "    conv_layer = tf.nn.bias_add(conv_layer, bias)\n",
    "    conv_layer = tf.nn.relu(conv_layer)\n",
    "    \n",
    "    # Apply Max Pooling\n",
    "    conv_layer = tf.nn.max_pool(conv_layer, pool_ksize,pool_strides,padding='SAME')\n",
    "    \n",
    "    return conv_layer\n",
    "\n",
    "\"\"\"\n",
    "DON'T MODIFY ANYTHING IN THIS CELL THAT IS BELOW THIS LINE\n",
    "\"\"\"\n",
    "tests.test_con_pool(conv2d_maxpool)"
   ]
  },
  {
   "cell_type": "markdown",
   "metadata": {
    "deletable": true,
    "editable": true
   },
   "source": [
    "### Flatten Layer\n",
    "Implement the `flatten` function to change the dimension of `x_tensor` from a 4-D tensor to a 2-D tensor.  The output should be the shape (*Batch Size*, *Flattened Image Size*). You can use [TensorFlow Layers](https://www.tensorflow.org/api_docs/python/tf/layers) or [TensorFlow Layers (contrib)](https://www.tensorflow.org/api_guides/python/contrib.layers) for this layer."
   ]
  },
  {
   "cell_type": "code",
   "execution_count": 65,
   "metadata": {
    "collapsed": false,
    "deletable": true,
    "editable": true
   },
   "outputs": [
    {
     "name": "stdout",
     "output_type": "stream",
     "text": [
      "Tests Passed\n"
     ]
    }
   ],
   "source": [
    "def flatten(x_tensor):\n",
    "    \"\"\"\n",
    "    Flatten x_tensor to (Batch Size, Flattened Image Size)\n",
    "    : x_tensor: A tensor of size (Batch Size, ...), where ... are the image dimensions.\n",
    "    : return: A tensor of size (Batch Size, Flattened Image Size).\n",
    "    \"\"\"\n",
    "    # TODO: Implement Function\n",
    "    #Deep Neural Network - Deep Neural Network In Tensor Flow\n",
    "    \n",
    "    \n",
    "    size = x_tensor.get_shape().as_list()\n",
    "    x_tensor = tf.reshape(x_tensor, [-1, size[1]*size[2]*size[3]])        \n",
    "    return x_tensor\n",
    "\n",
    "\n",
    "\"\"\"\n",
    "DON'T MODIFY ANYTHING IN THIS CELL THAT IS BELOW THIS LINE\n",
    "\"\"\"\n",
    "tests.test_flatten(flatten)"
   ]
  },
  {
   "cell_type": "markdown",
   "metadata": {
    "deletable": true,
    "editable": true
   },
   "source": [
    "### Fully-Connected Layer\n",
    "Implement the `fully_conn` function to apply a fully connected layer to `x_tensor` with the shape (*Batch Size*, *num_outputs*). You can use [TensorFlow Layers](https://www.tensorflow.org/api_docs/python/tf/layers) or [TensorFlow Layers (contrib)](https://www.tensorflow.org/api_guides/python/contrib.layers) for this layer."
   ]
  },
  {
   "cell_type": "code",
   "execution_count": 66,
   "metadata": {
    "collapsed": false,
    "deletable": true,
    "editable": true
   },
   "outputs": [
    {
     "name": "stdout",
     "output_type": "stream",
     "text": [
      "Tests Passed\n"
     ]
    }
   ],
   "source": [
    "def fully_conn(x_tensor, num_outputs):\n",
    "    \"\"\"\n",
    "    Apply a fully connected layer to x_tensor using weight and bias\n",
    "    : x_tensor: A 2-D tensor where the first dimension is batch size.\n",
    "    : num_outputs: The number of output that the new tensor should be.\n",
    "    : return: A 2-D tensor where the second dimension is num_outputs.\n",
    "    \"\"\"\n",
    "    # TODO: Implement Function\n",
    "\n",
    "    \n",
    "    # Hidden layer(s)\n",
    "    fully_connected = tf.contrib.layers.fully_connected(x_tensor, num_outputs,activation_fn=tf.nn.relu)  \n",
    "    #Epoch 50, CIFAR-10 Batch 1:  Cost: 1.2091443538665771 Valid Accuracy: 0.4529999792575836\n",
    "    \n",
    "    #fully_connected = tf.contrib.layers.fully_connected(x_tensor, num_outputs,activation_fn=None)  \n",
    "    #Epoch 50, CIFAR-10 Batch 1:  Cost: 1.1186187267303467 Valid Accuracy: 0.4757999777793884\n",
    "    \n",
    "    return fully_connected\n",
    "\n",
    "\n",
    "\"\"\"\n",
    "DON'T MODIFY ANYTHING IN THIS CELL THAT IS BELOW THIS LINE\n",
    "\"\"\"\n",
    "tests.test_fully_conn(fully_conn)"
   ]
  },
  {
   "cell_type": "markdown",
   "metadata": {
    "deletable": true,
    "editable": true
   },
   "source": [
    "### Output Layer\n",
    "Implement the `output` function to apply a fully connected layer to `x_tensor` with the shape (*Batch Size*, *num_outputs*). You can use [TensorFlow Layers](https://www.tensorflow.org/api_docs/python/tf/layers) or [TensorFlow Layers (contrib)](https://www.tensorflow.org/api_guides/python/contrib.layers) for this layer.\n",
    "\n",
    "Note: Activation, softmax, or cross entropy shouldn't be applied to this."
   ]
  },
  {
   "cell_type": "code",
   "execution_count": 67,
   "metadata": {
    "collapsed": false,
    "deletable": true,
    "editable": true
   },
   "outputs": [
    {
     "name": "stdout",
     "output_type": "stream",
     "text": [
      "Tests Passed\n"
     ]
    }
   ],
   "source": [
    "def output(x_tensor, num_outputs):\n",
    "    \"\"\"\n",
    "    Apply a output layer to x_tensor using weight and bias\n",
    "    : x_tensor: A 2-D tensor where the first dimension is batch size.\n",
    "    : num_outputs: The number of output that the new tensor should be.\n",
    "    : return: A 2-D tensor where the second dimension is num_outputs.\n",
    "    \"\"\"\n",
    "    # TODO: Implement Function\n",
    "    datasize=x_tensor.get_shape().as_list()[1]\n",
    "    weight = tf.Variable(tf.truncated_normal([datasize,num_outputs],stddev=0.05))\n",
    "    bias= tf.Variable(tf.zeros(num_outputs))\n",
    "    out = tf.add(tf.matmul(x_tensor,weight),bias)\n",
    "  \n",
    "    return out\n",
    "\n",
    "\n",
    "\"\"\"\n",
    "DON'T MODIFY ANYTHING IN THIS CELL THAT IS BELOW THIS LINE\n",
    "\"\"\"\n",
    "tests.test_output(output)"
   ]
  },
  {
   "cell_type": "markdown",
   "metadata": {
    "deletable": true,
    "editable": true
   },
   "source": [
    "### Create Convolutional Model\n",
    "Implement the function `conv_net` to create a convolutional neural network model. The function takes in a batch of images, `x`, and outputs logits.  Use the layers you created above to create this model:\n",
    "\n",
    "* Apply 1, 2, or 3 Convolution and Max Pool layers\n",
    "* Apply a Flatten Layer\n",
    "* Apply 1, 2, or 3 Fully Connected Layers\n",
    "* Apply an Output Layer\n",
    "* Return the output\n",
    "* Apply [TensorFlow's Dropout](https://www.tensorflow.org/api_docs/python/tf/nn/dropout) to one or more layers in the model using `keep_prob`. "
   ]
  },
  {
   "cell_type": "code",
   "execution_count": 68,
   "metadata": {
    "collapsed": false,
    "deletable": true,
    "editable": true,
    "scrolled": false
   },
   "outputs": [
    {
     "name": "stdout",
     "output_type": "stream",
     "text": [
      "Neural Network Built!\n"
     ]
    }
   ],
   "source": [
    "def conv_net(x, keep_prob):\n",
    "    \"\"\"\n",
    "    Create a convolutional neural network model\n",
    "    : x: Placeholder tensor that holds image data.\n",
    "    : keep_prob: Placeholder tensor that hold dropout keep probability.\n",
    "    : return: Tensor that represents logits\n",
    "    \"\"\"\n",
    "    conv_num_outputs=10\n",
    "    conv_ksize=[4,4]\n",
    "    conv_strides=[1,1]\n",
    "    pool_ksize=[2,2]\n",
    "    pool_strides=[1,1]\n",
    "    num_outputs=10\n",
    "    \n",
    "    # TODO: Apply 1, 2, or 3 Convolution and Max Pool layers\n",
    "    #    Play around with different number of outputs, kernel size and stride\n",
    "    # Function Definition from Above:\n",
    "    #conv2d_maxpool(x_tensor, conv_num_outputs, conv_ksize, conv_strides, pool_ksize, pool_strides)       \n",
    "    \n",
    "    conv1 = conv2d_maxpool(x, conv_num_outputs, conv_ksize, conv_strides, pool_ksize, pool_strides)\n",
    "    #conv1 = conv2d_maxpool(x, conv_num_outputs=10, conv_ksize=[2,2], conv_strides=[1,1], pool_ksize=[2,2], pool_strides=[1,1])\n",
    "    dropout_1=tf.contrib.layers.dropout(conv1,keep_prob)\n",
    "    conv2= conv2d_maxpool(dropout_1,conv_num_outputs,conv_ksize,conv_strides,pool_ksize,pool_strides)\n",
    "    dropout_2=tf.contrib.layers.dropout(conv2,keep_prob)\n",
    "    conv3= conv2d_maxpool(dropout_2,conv_num_outputs,conv_ksize,conv_strides, pool_ksize,pool_strides)\n",
    "    dropout_3 = tf.contrib.layers.dropout(conv3,keep_prob)\n",
    "    \n",
    "    \n",
    "    #print(x)\n",
    "    # TODO: Apply a Flatten Layer\n",
    "    # Function Definition from Above:\n",
    "    #   flatten(x_tensor)\n",
    "    flat=flatten(dropout_3)\n",
    "    #print(x)\n",
    "    # TODO: Apply 1, 2, or 3 Fully Connected Layers\n",
    "    #    Play around with different number of outputs\n",
    "    # Function Definition from Above:\n",
    "    #   fully_conn(x_tensor, num_outputs)\n",
    "    fconnected1= fully_conn(flat, num_outputs)\n",
    "    fconnected2=fully_conn(fconnected1,num_outputs)\n",
    "    fconnected3=fully_conn(fconnected2,num_outputs)\n",
    "    \n",
    "    # TODO: Apply an Output Layer\n",
    "    #    Set this to the number of classes\n",
    "    # Function Definition from Above:\n",
    "    #   output(x_tensor, num_outputs)\n",
    "    out= output(fconnected3, num_outputs) \n",
    "    \n",
    "    # TODO: return output\n",
    "    return out\n",
    "\n",
    "\"\"\"\n",
    "DON'T MODIFY ANYTHING IN THIS CELL THAT IS BELOW THIS LINE\n",
    "\"\"\"\n",
    "\n",
    "##############################\n",
    "## Build the Neural Network ##\n",
    "##############################\n",
    "\n",
    "# Remove previous weights, bias, inputs, etc..\n",
    "tf.reset_default_graph()\n",
    "\n",
    "# Inputs\n",
    "x = neural_net_image_input((32, 32, 3))\n",
    "y = neural_net_label_input(10)\n",
    "keep_prob = neural_net_keep_prob_input()\n",
    "\n",
    "# Model\n",
    "logits = conv_net(x, keep_prob)\n",
    "\n",
    "# Name logits Tensor, so that is can be loaded from disk after training\n",
    "logits = tf.identity(logits, name='logits')\n",
    "\n",
    "# Loss and Optimizer\n",
    "cost = tf.reduce_mean(tf.nn.softmax_cross_entropy_with_logits(logits=logits, labels=y))\n",
    "optimizer = tf.train.AdamOptimizer().minimize(cost)\n",
    "\n",
    "# Accuracy\n",
    "correct_pred = tf.equal(tf.argmax(logits, 1), tf.argmax(y, 1))\n",
    "accuracy = tf.reduce_mean(tf.cast(correct_pred, tf.float32), name='accuracy')\n",
    "\n",
    "tests.test_conv_net(conv_net)"
   ]
  },
  {
   "cell_type": "markdown",
   "metadata": {
    "deletable": true,
    "editable": true
   },
   "source": [
    "## Train the Neural Network\n",
    "### Single Optimization\n",
    "Implement the function `train_neural_network` to do a single optimization.  The optimization should use `optimizer` to optimize in `session` with a `feed_dict` of the following:\n",
    "* `x` for image input\n",
    "* `y` for labels\n",
    "* `keep_prob` for keep probability for dropout\n",
    "\n",
    "This function will be called for each batch, so `tf.global_variables_initializer()` has already been called.\n",
    "\n",
    "Note: Nothing needs to be returned. This function is only optimizing the neural network."
   ]
  },
  {
   "cell_type": "code",
   "execution_count": 69,
   "metadata": {
    "collapsed": false,
    "deletable": true,
    "editable": true
   },
   "outputs": [
    {
     "name": "stdout",
     "output_type": "stream",
     "text": [
      "Tests Passed\n"
     ]
    }
   ],
   "source": [
    "def train_neural_network(session, optimizer, keep_probability, feature_batch, label_batch):\n",
    "    \"\"\"\n",
    "    Optimize the session on a batch of images and labels\n",
    "    : session: Current TensorFlow session\n",
    "    : optimizer: TensorFlow optimizer function\n",
    "    : keep_probability: keep probability\n",
    "    : feature_batch: Batch of Numpy image data\n",
    "    : label_batch: Batch of Numpy label data\n",
    "    \"\"\"\n",
    "    # TODO: Implement Function \n",
    "    \n",
    "    session.run(optimizer, feed_dict={x: feature_batch, y: label_batch, keep_prob: keep_probability})\n",
    "    pass\n",
    "\n",
    "\n",
    "\"\"\"\n",
    "DON'T MODIFY ANYTHING IN THIS CELL THAT IS BELOW THIS LINE\n",
    "\"\"\"\n",
    "tests.test_train_nn(train_neural_network)"
   ]
  },
  {
   "cell_type": "markdown",
   "metadata": {
    "deletable": true,
    "editable": true
   },
   "source": [
    "### Show Stats\n",
    "Implement the function `print_stats` to print loss and validation accuracy.  Use the global variables `valid_features` and `valid_labels` to calculate validation accuracy.  Use a keep probability of `1.0` to calculate the loss and validation accuracy."
   ]
  },
  {
   "cell_type": "code",
   "execution_count": 70,
   "metadata": {
    "collapsed": false,
    "deletable": true,
    "editable": true
   },
   "outputs": [],
   "source": [
    "def print_stats(session, feature_batch, label_batch, cost, accuracy):\n",
    "    \"\"\"\n",
    "    Print information about loss and validation accuracy\n",
    "    : session: Current TensorFlow session\n",
    "    : feature_batch: Batch of Numpy image data\n",
    "    : label_batch: Batch of Numpy label data\n",
    "    : cost: TensorFlow cost function\n",
    "    : accuracy: TensorFlow accuracy function\n",
    "    \"\"\"\n",
    "    # TODO: Implement Function\n",
    "    cost_=session.run(cost, feed_dict={x: feature_batch, y: label_batch, keep_prob:1.0})\n",
    "    acc_=session.run(accuracy, feed_dict={x: valid_features, y: valid_labels, keep_prob:1.0})\n",
    "    \n",
    "    print('Cost: {} Valid Accuracy: {}'.format(cost_,acc_))\n",
    "    pass"
   ]
  },
  {
   "cell_type": "markdown",
   "metadata": {
    "deletable": true,
    "editable": true
   },
   "source": [
    "### Hyperparameters\n",
    "Tune the following parameters:\n",
    "* Set `epochs` to the number of iterations until the network stops learning or start overfitting\n",
    "* Set `batch_size` to the highest number that your machine has memory for.  Most people set them to common sizes of memory:\n",
    " * 64\n",
    " * 128\n",
    " * 256\n",
    " * ...\n",
    "* Set `keep_probability` to the probability of keeping a node using dropout"
   ]
  },
  {
   "cell_type": "code",
   "execution_count": 75,
   "metadata": {
    "collapsed": true,
    "deletable": true,
    "editable": true
   },
   "outputs": [],
   "source": [
    "# TODO: Tune Parameters\n",
    "epochs = 15\n",
    "batch_size = 128\n",
    "keep_probability = 0.75"
   ]
  },
  {
   "cell_type": "markdown",
   "metadata": {
    "deletable": true,
    "editable": true
   },
   "source": [
    "### Train on a Single CIFAR-10 Batch\n",
    "Instead of training the neural network on all the CIFAR-10 batches of data, let's use a single batch. This should save time while you iterate on the model to get a better accuracy.  Once the final validation accuracy is 50% or greater, run the model on all the data in the next section."
   ]
  },
  {
   "cell_type": "code",
   "execution_count": 72,
   "metadata": {
    "collapsed": false,
    "deletable": true,
    "editable": true
   },
   "outputs": [
    {
     "name": "stdout",
     "output_type": "stream",
     "text": [
      "Checking the Training on a Single Batch...\n",
      "Epoch  1, CIFAR-10 Batch 1:  Cost: 2.1861250400543213 Valid Accuracy: 0.1793999969959259\n",
      "Epoch  2, CIFAR-10 Batch 1:  Cost: 2.197573661804199 Valid Accuracy: 0.2572000026702881\n",
      "Epoch  3, CIFAR-10 Batch 1:  Cost: 2.1526496410369873 Valid Accuracy: 0.3224000036716461\n",
      "Epoch  4, CIFAR-10 Batch 1:  Cost: 2.0042264461517334 Valid Accuracy: 0.32739996910095215\n",
      "Epoch  5, CIFAR-10 Batch 1:  Cost: 1.936423659324646 Valid Accuracy: 0.34759998321533203\n",
      "Epoch  6, CIFAR-10 Batch 1:  Cost: 1.890352725982666 Valid Accuracy: 0.358599990606308\n",
      "Epoch  7, CIFAR-10 Batch 1:  Cost: 1.8809049129486084 Valid Accuracy: 0.361799955368042\n",
      "Epoch  8, CIFAR-10 Batch 1:  Cost: 1.8317292928695679 Valid Accuracy: 0.37139999866485596\n",
      "Epoch  9, CIFAR-10 Batch 1:  Cost: 1.8249576091766357 Valid Accuracy: 0.36799997091293335\n",
      "Epoch 10, CIFAR-10 Batch 1:  Cost: 1.7885785102844238 Valid Accuracy: 0.3933999836444855\n",
      "Epoch 11, CIFAR-10 Batch 1:  Cost: 1.7559928894042969 Valid Accuracy: 0.3925999701023102\n",
      "Epoch 12, CIFAR-10 Batch 1:  Cost: 1.7191754579544067 Valid Accuracy: 0.4105999767780304\n",
      "Epoch 13, CIFAR-10 Batch 1:  Cost: 1.6923272609710693 Valid Accuracy: 0.42139995098114014\n",
      "Epoch 14, CIFAR-10 Batch 1:  Cost: 1.6806845664978027 Valid Accuracy: 0.4131999909877777\n",
      "Epoch 15, CIFAR-10 Batch 1:  Cost: 1.6442334651947021 Valid Accuracy: 0.4307999908924103\n",
      "Epoch 16, CIFAR-10 Batch 1:  Cost: 1.6178467273712158 Valid Accuracy: 0.4381999671459198\n",
      "Epoch 17, CIFAR-10 Batch 1:  Cost: 1.6345164775848389 Valid Accuracy: 0.4421999454498291\n",
      "Epoch 18, CIFAR-10 Batch 1:  Cost: 1.587157130241394 Valid Accuracy: 0.4514000117778778\n",
      "Epoch 19, CIFAR-10 Batch 1:  Cost: 1.5484533309936523 Valid Accuracy: 0.4543999433517456\n",
      "Epoch 20, CIFAR-10 Batch 1:  Cost: 1.4861106872558594 Valid Accuracy: 0.44859999418258667\n",
      "Epoch 21, CIFAR-10 Batch 1:  Cost: 1.4971952438354492 Valid Accuracy: 0.4535999596118927\n",
      "Epoch 22, CIFAR-10 Batch 1:  Cost: 1.43055260181427 Valid Accuracy: 0.45979997515678406\n",
      "Epoch 23, CIFAR-10 Batch 1:  Cost: 1.4106271266937256 Valid Accuracy: 0.4655999541282654\n",
      "Epoch 24, CIFAR-10 Batch 1:  Cost: 1.386339545249939 Valid Accuracy: 0.45979997515678406\n",
      "Epoch 25, CIFAR-10 Batch 1:  Cost: 1.3159226179122925 Valid Accuracy: 0.4721999168395996\n",
      "Epoch 26, CIFAR-10 Batch 1:  Cost: 1.2623143196105957 Valid Accuracy: 0.4739999771118164\n",
      "Epoch 27, CIFAR-10 Batch 1:  Cost: 1.2848008871078491 Valid Accuracy: 0.4781999886035919\n",
      "Epoch 28, CIFAR-10 Batch 1:  Cost: 1.2882617712020874 Valid Accuracy: 0.4773999750614166\n",
      "Epoch 29, CIFAR-10 Batch 1:  Cost: 1.218215823173523 Valid Accuracy: 0.4809999167919159\n",
      "Epoch 30, CIFAR-10 Batch 1:  Cost: 1.2277981042861938 Valid Accuracy: 0.4785999655723572\n",
      "Epoch 31, CIFAR-10 Batch 1:  Cost: 1.1494288444519043 Valid Accuracy: 0.47899991273880005\n",
      "Epoch 32, CIFAR-10 Batch 1:  Cost: 1.1619703769683838 Valid Accuracy: 0.4899999797344208\n",
      "Epoch 33, CIFAR-10 Batch 1:  Cost: 1.1489777565002441 Valid Accuracy: 0.4883999526500702\n",
      "Epoch 34, CIFAR-10 Batch 1:  Cost: 1.122255563735962 Valid Accuracy: 0.49139994382858276\n",
      "Epoch 35, CIFAR-10 Batch 1:  Cost: 1.0844091176986694 Valid Accuracy: 0.4925999641418457\n",
      "Epoch 36, CIFAR-10 Batch 1:  Cost: 1.0529905557632446 Valid Accuracy: 0.4941999316215515\n",
      "Epoch 37, CIFAR-10 Batch 1:  Cost: 1.0472311973571777 Valid Accuracy: 0.48979997634887695\n",
      "Epoch 38, CIFAR-10 Batch 1:  Cost: 1.0137765407562256 Valid Accuracy: 0.4925999641418457\n",
      "Epoch 39, CIFAR-10 Batch 1:  Cost: 0.9964133501052856 Valid Accuracy: 0.48959994316101074\n",
      "Epoch 40, CIFAR-10 Batch 1:  Cost: 0.987288773059845 Valid Accuracy: 0.49939996004104614\n",
      "Epoch 41, CIFAR-10 Batch 1:  Cost: 0.9808845520019531 Valid Accuracy: 0.496599942445755\n",
      "Epoch 42, CIFAR-10 Batch 1:  Cost: 0.9484255313873291 Valid Accuracy: 0.4939999282360077\n",
      "Epoch 43, CIFAR-10 Batch 1:  Cost: 0.9123862385749817 Valid Accuracy: 0.4983999729156494\n",
      "Epoch 44, CIFAR-10 Batch 1:  Cost: 0.904392421245575 Valid Accuracy: 0.4971999228000641\n",
      "Epoch 45, CIFAR-10 Batch 1:  Cost: 0.870378851890564 Valid Accuracy: 0.5013999342918396\n",
      "Epoch 46, CIFAR-10 Batch 1:  Cost: 0.8578431606292725 Valid Accuracy: 0.5073999762535095\n",
      "Epoch 47, CIFAR-10 Batch 1:  Cost: 0.8936418294906616 Valid Accuracy: 0.501599907875061\n",
      "Epoch 48, CIFAR-10 Batch 1:  Cost: 0.8816510438919067 Valid Accuracy: 0.5035999417304993\n",
      "Epoch 49, CIFAR-10 Batch 1:  Cost: 0.8914012908935547 Valid Accuracy: 0.49779999256134033\n",
      "Epoch 50, CIFAR-10 Batch 1:  Cost: 0.9226006269454956 Valid Accuracy: 0.5033999681472778\n"
     ]
    }
   ],
   "source": [
    "\"\"\"\n",
    "DON'T MODIFY ANYTHING IN THIS CELL\n",
    "\"\"\"\n",
    "print('Checking the Training on a Single Batch...')\n",
    "with tf.Session() as sess:\n",
    "    # Initializing the variables\n",
    "    sess.run(tf.global_variables_initializer())\n",
    "    \n",
    "    # Training cycle\n",
    "    for epoch in range(epochs):\n",
    "        batch_i = 1\n",
    "        for batch_features, batch_labels in helper.load_preprocess_training_batch(batch_i, batch_size):\n",
    "            train_neural_network(sess, optimizer, keep_probability, batch_features, batch_labels)\n",
    "        print('Epoch {:>2}, CIFAR-10 Batch {}:  '.format(epoch + 1, batch_i), end='')\n",
    "        print_stats(sess, batch_features, batch_labels, cost, accuracy)"
   ]
  },
  {
   "cell_type": "markdown",
   "metadata": {
    "deletable": true,
    "editable": true
   },
   "source": [
    "### Fully Train the Model\n",
    "Now that you got a good accuracy with a single CIFAR-10 batch, try it with all five batches."
   ]
  },
  {
   "cell_type": "code",
   "execution_count": 76,
   "metadata": {
    "collapsed": false,
    "deletable": true,
    "editable": true
   },
   "outputs": [
    {
     "name": "stdout",
     "output_type": "stream",
     "text": [
      "Training...\n",
      "Epoch  1, CIFAR-10 Batch 1:  Cost: 2.2540743350982666 Valid Accuracy: 0.17499998211860657\n",
      "Epoch  1, CIFAR-10 Batch 2:  Cost: 2.110624074935913 Valid Accuracy: 0.24059998989105225\n",
      "Epoch  1, CIFAR-10 Batch 3:  Cost: 1.7529573440551758 Valid Accuracy: 0.2865999937057495\n",
      "Epoch  1, CIFAR-10 Batch 4:  Cost: 1.7657058238983154 Valid Accuracy: 0.32899999618530273\n",
      "Epoch  1, CIFAR-10 Batch 5:  Cost: 1.930088996887207 Valid Accuracy: 0.3397999703884125\n",
      "Epoch  2, CIFAR-10 Batch 1:  Cost: 1.8919801712036133 Valid Accuracy: 0.3499999940395355\n",
      "Epoch  2, CIFAR-10 Batch 2:  Cost: 1.8611974716186523 Valid Accuracy: 0.35819998383522034\n",
      "Epoch  2, CIFAR-10 Batch 3:  Cost: 1.599445104598999 Valid Accuracy: 0.3733999729156494\n",
      "Epoch  2, CIFAR-10 Batch 4:  Cost: 1.6449137926101685 Valid Accuracy: 0.3999999761581421\n",
      "Epoch  2, CIFAR-10 Batch 5:  Cost: 1.6883337497711182 Valid Accuracy: 0.3967999815940857\n",
      "Epoch  3, CIFAR-10 Batch 1:  Cost: 1.8656460046768188 Valid Accuracy: 0.40039998292922974\n",
      "Epoch  3, CIFAR-10 Batch 2:  Cost: 1.701414942741394 Valid Accuracy: 0.4087999761104584\n",
      "Epoch  3, CIFAR-10 Batch 3:  Cost: 1.479067325592041 Valid Accuracy: 0.420199990272522\n",
      "Epoch  3, CIFAR-10 Batch 4:  Cost: 1.5803323984146118 Valid Accuracy: 0.4259999692440033\n",
      "Epoch  3, CIFAR-10 Batch 5:  Cost: 1.668372631072998 Valid Accuracy: 0.42619994282722473\n",
      "Epoch  4, CIFAR-10 Batch 1:  Cost: 1.69805908203125 Valid Accuracy: 0.4461999833583832\n",
      "Epoch  4, CIFAR-10 Batch 2:  Cost: 1.6383633613586426 Valid Accuracy: 0.4373999536037445\n",
      "Epoch  4, CIFAR-10 Batch 3:  Cost: 1.4474657773971558 Valid Accuracy: 0.44759997725486755\n",
      "Epoch  4, CIFAR-10 Batch 4:  Cost: 1.538019061088562 Valid Accuracy: 0.4533999562263489\n",
      "Epoch  4, CIFAR-10 Batch 5:  Cost: 1.5852179527282715 Valid Accuracy: 0.45319998264312744\n",
      "Epoch  5, CIFAR-10 Batch 1:  Cost: 1.5828778743743896 Valid Accuracy: 0.4715999662876129\n",
      "Epoch  5, CIFAR-10 Batch 2:  Cost: 1.433032751083374 Valid Accuracy: 0.45899999141693115\n",
      "Epoch  5, CIFAR-10 Batch 3:  Cost: 1.4146156311035156 Valid Accuracy: 0.4821999669075012\n",
      "Epoch  5, CIFAR-10 Batch 4:  Cost: 1.5649789571762085 Valid Accuracy: 0.4835999608039856\n",
      "Epoch  5, CIFAR-10 Batch 5:  Cost: 1.5171571969985962 Valid Accuracy: 0.5015999674797058\n",
      "Epoch  6, CIFAR-10 Batch 1:  Cost: 1.51239812374115 Valid Accuracy: 0.4957999587059021\n",
      "Epoch  6, CIFAR-10 Batch 2:  Cost: 1.3728251457214355 Valid Accuracy: 0.4959999620914459\n",
      "Epoch  6, CIFAR-10 Batch 3:  Cost: 1.349177360534668 Valid Accuracy: 0.49859997630119324\n",
      "Epoch  6, CIFAR-10 Batch 4:  Cost: 1.5737273693084717 Valid Accuracy: 0.5165999531745911\n",
      "Epoch  6, CIFAR-10 Batch 5:  Cost: 1.4094810485839844 Valid Accuracy: 0.5231999158859253\n",
      "Epoch  7, CIFAR-10 Batch 1:  Cost: 1.4673852920532227 Valid Accuracy: 0.5183999538421631\n",
      "Epoch  7, CIFAR-10 Batch 2:  Cost: 1.2381620407104492 Valid Accuracy: 0.5035999417304993\n",
      "Epoch  7, CIFAR-10 Batch 3:  Cost: 1.2353217601776123 Valid Accuracy: 0.5217999219894409\n",
      "Epoch  7, CIFAR-10 Batch 4:  Cost: 1.526800513267517 Valid Accuracy: 0.527199923992157\n",
      "Epoch  7, CIFAR-10 Batch 5:  Cost: 1.3158831596374512 Valid Accuracy: 0.5373998880386353\n",
      "Epoch  8, CIFAR-10 Batch 1:  Cost: 1.4068984985351562 Valid Accuracy: 0.5411999225616455\n",
      "Epoch  8, CIFAR-10 Batch 2:  Cost: 1.1427432298660278 Valid Accuracy: 0.5133999586105347\n",
      "Epoch  8, CIFAR-10 Batch 3:  Cost: 1.133802890777588 Valid Accuracy: 0.546799898147583\n",
      "Epoch  8, CIFAR-10 Batch 4:  Cost: 1.5020536184310913 Valid Accuracy: 0.5401999950408936\n",
      "Epoch  8, CIFAR-10 Batch 5:  Cost: 1.2471745014190674 Valid Accuracy: 0.5481999516487122\n",
      "Epoch  9, CIFAR-10 Batch 1:  Cost: 1.3843998908996582 Valid Accuracy: 0.5507999658584595\n",
      "Epoch  9, CIFAR-10 Batch 2:  Cost: 1.0928997993469238 Valid Accuracy: 0.5405999422073364\n",
      "Epoch  9, CIFAR-10 Batch 3:  Cost: 1.130906581878662 Valid Accuracy: 0.5447999238967896\n",
      "Epoch  9, CIFAR-10 Batch 4:  Cost: 1.458821415901184 Valid Accuracy: 0.5409998893737793\n",
      "Epoch  9, CIFAR-10 Batch 5:  Cost: 1.1841838359832764 Valid Accuracy: 0.5617998838424683\n",
      "Epoch 10, CIFAR-10 Batch 1:  Cost: 1.3975584506988525 Valid Accuracy: 0.5549999475479126\n",
      "Epoch 10, CIFAR-10 Batch 2:  Cost: 1.0327157974243164 Valid Accuracy: 0.5453999638557434\n",
      "Epoch 10, CIFAR-10 Batch 3:  Cost: 1.1132744550704956 Valid Accuracy: 0.5499999523162842\n",
      "Epoch 10, CIFAR-10 Batch 4:  Cost: 1.3788777589797974 Valid Accuracy: 0.5621998906135559\n",
      "Epoch 10, CIFAR-10 Batch 5:  Cost: 1.1329472064971924 Valid Accuracy: 0.5683999061584473\n",
      "Epoch 11, CIFAR-10 Batch 1:  Cost: 1.2887098789215088 Valid Accuracy: 0.5695999264717102\n",
      "Epoch 11, CIFAR-10 Batch 2:  Cost: 1.0432785749435425 Valid Accuracy: 0.5527999401092529\n",
      "Epoch 11, CIFAR-10 Batch 3:  Cost: 1.0055768489837646 Valid Accuracy: 0.5735998749732971\n",
      "Epoch 11, CIFAR-10 Batch 4:  Cost: 1.3159242868423462 Valid Accuracy: 0.574199914932251\n",
      "Epoch 11, CIFAR-10 Batch 5:  Cost: 1.1004977226257324 Valid Accuracy: 0.5709999203681946\n",
      "Epoch 12, CIFAR-10 Batch 1:  Cost: 1.3386359214782715 Valid Accuracy: 0.5701998472213745\n",
      "Epoch 12, CIFAR-10 Batch 2:  Cost: 1.0254825353622437 Valid Accuracy: 0.5637999773025513\n",
      "Epoch 12, CIFAR-10 Batch 3:  Cost: 0.9959644675254822 Valid Accuracy: 0.5761998891830444\n",
      "Epoch 12, CIFAR-10 Batch 4:  Cost: 1.2513267993927002 Valid Accuracy: 0.5753999352455139\n",
      "Epoch 12, CIFAR-10 Batch 5:  Cost: 1.0927772521972656 Valid Accuracy: 0.5671999454498291\n",
      "Epoch 13, CIFAR-10 Batch 1:  Cost: 1.2421683073043823 Valid Accuracy: 0.5847998857498169\n",
      "Epoch 13, CIFAR-10 Batch 2:  Cost: 0.9939978718757629 Valid Accuracy: 0.5721999406814575\n",
      "Epoch 13, CIFAR-10 Batch 3:  Cost: 0.9500190615653992 Valid Accuracy: 0.5805999040603638\n",
      "Epoch 13, CIFAR-10 Batch 4:  Cost: 1.2646923065185547 Valid Accuracy: 0.5805999040603638\n",
      "Epoch 13, CIFAR-10 Batch 5:  Cost: 1.0649468898773193 Valid Accuracy: 0.5747998952865601\n",
      "Epoch 14, CIFAR-10 Batch 1:  Cost: 1.2304929494857788 Valid Accuracy: 0.593799889087677\n",
      "Epoch 14, CIFAR-10 Batch 2:  Cost: 1.0016708374023438 Valid Accuracy: 0.5691999197006226\n",
      "Epoch 14, CIFAR-10 Batch 3:  Cost: 0.9286484122276306 Valid Accuracy: 0.5819999575614929\n",
      "Epoch 14, CIFAR-10 Batch 4:  Cost: 1.2320635318756104 Valid Accuracy: 0.5901999473571777\n",
      "Epoch 14, CIFAR-10 Batch 5:  Cost: 1.0497567653656006 Valid Accuracy: 0.5849999189376831\n",
      "Epoch 15, CIFAR-10 Batch 1:  Cost: 1.2247872352600098 Valid Accuracy: 0.5951999425888062\n",
      "Epoch 15, CIFAR-10 Batch 2:  Cost: 0.9875386953353882 Valid Accuracy: 0.5707998871803284\n",
      "Epoch 15, CIFAR-10 Batch 3:  Cost: 0.9153884649276733 Valid Accuracy: 0.5835999250411987\n",
      "Epoch 15, CIFAR-10 Batch 4:  Cost: 1.211761713027954 Valid Accuracy: 0.58899986743927\n",
      "Epoch 15, CIFAR-10 Batch 5:  Cost: 1.0358200073242188 Valid Accuracy: 0.58079993724823\n"
     ]
    }
   ],
   "source": [
    "\"\"\"\n",
    "DON'T MODIFY ANYTHING IN THIS CELL\n",
    "\"\"\"\n",
    "save_model_path = './image_classification'\n",
    "\n",
    "print('Training...')\n",
    "with tf.Session() as sess:\n",
    "    # Initializing the variables\n",
    "    sess.run(tf.global_variables_initializer())\n",
    "    \n",
    "    # Training cycle\n",
    "    for epoch in range(epochs):\n",
    "        # Loop over all batches\n",
    "        n_batches = 5\n",
    "        for batch_i in range(1, n_batches + 1):\n",
    "            for batch_features, batch_labels in helper.load_preprocess_training_batch(batch_i, batch_size):\n",
    "                train_neural_network(sess, optimizer, keep_probability, batch_features, batch_labels)\n",
    "            print('Epoch {:>2}, CIFAR-10 Batch {}:  '.format(epoch + 1, batch_i), end='')\n",
    "            print_stats(sess, batch_features, batch_labels, cost, accuracy)\n",
    "            \n",
    "    # Save Model\n",
    "    saver = tf.train.Saver()\n",
    "    save_path = saver.save(sess, save_model_path)"
   ]
  },
  {
   "cell_type": "markdown",
   "metadata": {
    "deletable": true,
    "editable": true
   },
   "source": [
    "# Checkpoint\n",
    "The model has been saved to disk.\n",
    "## Test Model\n",
    "Test your model against the test dataset.  This will be your final accuracy. You should have an accuracy greater than 50%. If you don't, keep tweaking the model architecture and parameters."
   ]
  },
  {
   "cell_type": "code",
   "execution_count": 77,
   "metadata": {
    "collapsed": false,
    "deletable": true,
    "editable": true
   },
   "outputs": [
    {
     "name": "stdout",
     "output_type": "stream",
     "text": [
      "Testing Accuracy: 0.5794106012658228\n",
      "\n"
     ]
    },
    {
     "data": {
      "image/png": "[encoded data removed]",
      "text/plain": [
       "<matplotlib.figure.Figure at 0x7f9905ab8828>"
      ]
     },
     "metadata": {
      "image/png": {
       "height": 319,
       "width": 355
      }
     },
     "output_type": "display_data"
    }
   ],
   "source": [
    "\"\"\"\n",
    "DON'T MODIFY ANYTHING IN THIS CELL\n",
    "\"\"\"\n",
    "%matplotlib inline\n",
    "%config InlineBackend.figure_format = 'retina'\n",
    "\n",
    "import tensorflow as tf\n",
    "import pickle\n",
    "import helper\n",
    "import random\n",
    "\n",
    "# Set batch size if not already set\n",
    "try:\n",
    "    if batch_size:\n",
    "        pass\n",
    "except NameError:\n",
    "    batch_size = 64\n",
    "\n",
    "save_model_path = './image_classification'\n",
    "n_samples = 4\n",
    "top_n_predictions = 3\n",
    "\n",
    "def test_model():\n",
    "    \"\"\"\n",
    "    Test the saved model against the test dataset\n",
    "    \"\"\"\n",
    "\n",
    "    test_features, test_labels = pickle.load(open('preprocess_training.p', mode='rb'))\n",
    "    loaded_graph = tf.Graph()\n",
    "\n",
    "    with tf.Session(graph=loaded_graph) as sess:\n",
    "        # Load model\n",
    "        loader = tf.train.import_meta_graph(save_model_path + '.meta')\n",
    "        loader.restore(sess, save_model_path)\n",
    "\n",
    "        # Get Tensors from loaded model\n",
    "        loaded_x = loaded_graph.get_tensor_by_name('x:0')\n",
    "        loaded_y = loaded_graph.get_tensor_by_name('y:0')\n",
    "        loaded_keep_prob = loaded_graph.get_tensor_by_name('keep_prob:0')\n",
    "        loaded_logits = loaded_graph.get_tensor_by_name('logits:0')\n",
    "        loaded_acc = loaded_graph.get_tensor_by_name('accuracy:0')\n",
    "        \n",
    "        # Get accuracy in batches for memory limitations\n",
    "        test_batch_acc_total = 0\n",
    "        test_batch_count = 0\n",
    "        \n",
    "        for train_feature_batch, train_label_batch in helper.batch_features_labels(test_features, test_labels, batch_size):\n",
    "            test_batch_acc_total += sess.run(\n",
    "                loaded_acc,\n",
    "                feed_dict={loaded_x: train_feature_batch, loaded_y: train_label_batch, loaded_keep_prob: 1.0})\n",
    "            test_batch_count += 1\n",
    "\n",
    "        print('Testing Accuracy: {}\\n'.format(test_batch_acc_total/test_batch_count))\n",
    "\n",
    "        # Print Random Samples\n",
    "        random_test_features, random_test_labels = tuple(zip(*random.sample(list(zip(test_features, test_labels)), n_samples)))\n",
    "        random_test_predictions = sess.run(\n",
    "            tf.nn.top_k(tf.nn.softmax(loaded_logits), top_n_predictions),\n",
    "            feed_dict={loaded_x: random_test_features, loaded_y: random_test_labels, loaded_keep_prob: 1.0})\n",
    "        helper.display_image_predictions(random_test_features, random_test_labels, random_test_predictions)\n",
    "\n",
    "\n",
    "test_model()"
   ]
  },
  {
   "cell_type": "markdown",
   "metadata": {
    "deletable": true,
    "editable": true
   },
   "source": [
    "## Why 50-70% Accuracy?\n",
    "You might be wondering why you can't get an accuracy any higher. First things first, 50% isn't bad for a simple CNN.  Pure guessing would get you 10% accuracy. However, you might notice people are getting scores [well above 70%](http://rodrigob.github.io/are_we_there_yet/build/classification_datasets_results.html#43494641522d3130).  That's because we haven't taught you all there is to know about neural networks. We still need to cover a few more techniques.\n",
    "## Submitting This Project\n",
    "When submitting this project, make sure to run all the cells before saving the notebook.  Save the notebook file as \"dlnd_image_classification.ipynb\" and save it as a HTML file under \"File\" -> \"Download as\".  Include the \"helper.py\" and \"problem_unittests.py\" files in your submission."
   ]
  }
 ],
 "metadata": {
  "kernelspec": {
   "display_name": "Python 3",
   "language": "python",
   "name": "python3"
  },
  "language_info": {
   "codemirror_mode": {
    "name": "ipython",
    "version": 3
   },
   "file_extension": ".py",
   "mimetype": "text/x-python",
   "name": "python",
   "nbconvert_exporter": "python",
   "pygments_lexer": "ipython3",
   "version": "3.5.2"
  },
  "widgets": {
   "state": {},
   "version": "1.1.2"
  }
 },
 "nbformat": 4,
 "nbformat_minor": 0
}
